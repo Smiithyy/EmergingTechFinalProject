{
 "cells": [
  {
   "cell_type": "markdown",
   "id": "0418bc08-9eec-4ae2-bb46-ea5e8cd0a575",
   "metadata": {},
   "source": [
    "# Quantum Deutsch Notebook\n",
    "\n",
    "[Official documentation](https://learnonline.gmit.ie/course/view.php?id=3762)\n",
    "***"
   ]
  },
  {
   "cell_type": "markdown",
   "id": "22bb7c98-8557-451f-b2e1-2b282e46d5eb",
   "metadata": {},
   "source": [
    "<h1>Quantum Computing vs Classical Computing</h1>\n",
    "\n",
    "<h4>What is a Classical Computer</h4>\n",
    "<p>\n",
    "The birth of computing as an area of growth for science and technology can be traced back to the creation of the ENIAC (Eletronic Numerical Integrator and Computer) in 1945. Since their conception, the task of classical computers over the past seven decades has remained largely the same: convert a string of binary bits into understandable computational results.\n",
    "</p>\n",
    "<p>\n",
    "Classical computers carry out logical operations based off of the value of a physical state known as a bit. Bits can be set to either 0 or 1 and have to be one or the other but not both.  Over time, through mass production and increased competition within the field, computers have evolved to become more compact and aesthetically appealing for ordinary consumers.  In addition to this, they have also become much faster at performing logical operations in an efficient and user friendly manner.  These developments have been made possible by the work of William Shockley, John Bardeen and Walter Brattain who introduced the world to transistors, with Gordon Teal and Jack Kilby also making significant contributions to the field that built on the initial discovery.\n",
    "</p>\n",
    "<p>\n",
    "Despite these advancements, the sheer societal dominance, and the obvious success of classical computers, they remain somewhat 'bottle necked' by their defining operational feature. This is owing to the fact that adding more bits can only expand the processing power of the machine linearly. An additional shortcoming of classical computers is the fact that the bits are independent of each other meaning one bit cannot affect the state of another and this is where quantum computers possess a distinct edge. It is important to note that quantum computers are not intended to be replacements for classical computers, instead they are intended to be ‘a different kind of computer, engineered’ for specific applications.\n",
    "</p>"
   ]
  },
  {
   "cell_type": "markdown",
   "id": "fca10e5f-21fe-48ed-80e2-4b694bc9493d",
   "metadata": {},
   "source": [
    "<h4>What is Quantum Computing?</h4>\n",
    "<p>Similar to classical computers, a quantum computer carries out its operations by processing the state of bits only this time the bits are known as qubits. Unlike a bit that can only be found in one state (0 or 1) a qubit can be in many states at once. You can think of a qubit like an arrow in a sphere.  When measuring a qubit you are still given a value of either 0 or 1 however which value you get is set off a probability based off the direction of the arrow. In this way, ‘the concept of qubit can be regarded as a quantum variant of the classical concept of bit’. \n",
    "</p>\n",
    "<p>\n",
    "If the arrow points up the qubits value is 0. If the arrow points down the qubits value is 1. If the arrow is pointing more upwards there is a higher probability that the qubit has a value of 0, similarly if the arrow is pointing more down there is a higher chance of the qubit returning the value 1. The arrow may also be found on the equator of the circle, if this is the case the qubit has equal chance of being 0 or 1.  As a result of this, the arrow can be found pointing ‘in any linear combination (or superposition) of’ the binary states of 1 and 0.\n",
    "</p>"
   ]
  },
  {
   "cell_type": "markdown",
   "id": "10d8adad-0e3e-4943-946b-e07f74db5192",
   "metadata": {},
   "source": [
    "<p>\n",
    "Quantum computers do not serve as a replacement for classical, only to take on the tasks that the everyday computers cannot feasibly compute. It goes without saying that quantum computers are capable of solving the most complex of tasks and with only a little refinement their computing power will increase exponentially. However, this does not mean we should disregard our classical computing roots. In the age of information, the world is focused on improving and enhancing the technology we currently possess. This is, for the most part, a positive venture however, the quantum computer is far from ideal for every situation.\n",
    "</p>"
   ]
  },
  {
   "cell_type": "markdown",
   "id": "1e44ebcd-9ffd-4b9e-b65f-29d10356b073",
   "metadata": {},
   "source": [
    "<h3>Deutsch’s Algorithm</h3>"
   ]
  },
  {
   "cell_type": "markdown",
   "id": "e8ebc5c3-732d-44c6-bd23-f72e5de6e64d",
   "metadata": {},
   "source": [
    "<p>\n",
    "David Deutsch was the first to propose a Quantum alogrithm back in 1985. Deutsch's algorithm manganged to show that doing computations in a quantum way can help you to achieve something not otherwise achievable by classical means. David took the simple boolean function; f:{0,1} -> {0,1} (known as the oracle function) and asked if it was possible to know weather this function is constant or balanced having only run it a single time. A function being constant means that it outputs either all 0s or all 1s and if a function is balanced it means that it outputs an even number of 0s and 1s.\n",
    "</p>\n",
    "<p>\n",
    "Answering Deutsch's question using classical methods would mean running the oracle function 2^(n-1) + 1 times or more simply put, half the length of the function +1. Using his algorithm we only need to run the function once in order to find out if it is balanced of constant. The introduction of this algorithm was a huge stepping stone for the world of quantum computing as it showed that certain problems can be solved alot faster by using quantum methods. \n",
    "</p>\n"
   ]
  },
  {
   "cell_type": "code",
   "execution_count": null,
   "id": "c205a107-315b-49a3-902b-979142f4e48e",
   "metadata": {},
   "outputs": [],
   "source": []
  }
 ],
 "metadata": {
  "kernelspec": {
   "display_name": "Python 3",
   "language": "python",
   "name": "python3"
  },
  "language_info": {
   "codemirror_mode": {
    "name": "ipython",
    "version": 3
   },
   "file_extension": ".py",
   "mimetype": "text/x-python",
   "name": "python",
   "nbconvert_exporter": "python",
   "pygments_lexer": "ipython3",
   "version": "3.8.8"
  }
 },
 "nbformat": 4,
 "nbformat_minor": 5
}

{
 "cells": [
  {
   "cell_type": "markdown",
   "id": "0418bc08-9eec-4ae2-bb46-ea5e8cd0a575",
   "metadata": {},
   "source": [
    "# Quantum Deutsch Notebook\n",
    "\n",
    "[Official documentation](https://learnonline.gmit.ie/course/view.php?id=3762)\n",
    "***"
   ]
  },
  {
   "cell_type": "markdown",
   "id": "22bb7c98-8557-451f-b2e1-2b282e46d5eb",
   "metadata": {},
   "source": [
    "<h1>Quantum Computing vs Classical Computing</h1>\n",
    "<h4>What is Quantum Computing?</h4>\n",
    "<p>In short, Quantum Computing is a type of computation that utilises the collective properties of quantum states; superposition, interference and entanglement for example, to perform calculations. These calculations are preformed by quantum computers. Unlike a classical computer bit, which can ONLY be either 0 or 1, a quantum computer's bit, known as a qubit, can be either 0, 1 or both at the same time. The power of a quantum computer grows exponentially as the number of qubits grows.</p>\n",
    "<h4>What is Classical Computing?</h4>\n",
    "<p>Classical computing or binary computing is the \"traditional\" approach to computing. Information is stored in bits which are represented by either 0 or 1. Unlike a quantum computer, a classic computers power only grows lineraly when more transisters are added.</p>\n",
    "<p>For the tasks faced in everyday life classical computers are perfect for the job, quantum computers are only necessary for tasks that would take a classical computer an impractical amount of time.</p>"
   ]
  },
  {
   "cell_type": "code",
   "execution_count": null,
   "id": "e2500721-9509-4098-8c62-9dd6fa37a9a6",
   "metadata": {},
   "outputs": [],
   "source": []
  }
 ],
 "metadata": {
  "kernelspec": {
   "display_name": "Python 3",
   "language": "python",
   "name": "python3"
  },
  "language_info": {
   "codemirror_mode": {
    "name": "ipython",
    "version": 3
   },
   "file_extension": ".py",
   "mimetype": "text/x-python",
   "name": "python",
   "nbconvert_exporter": "python",
   "pygments_lexer": "ipython3",
   "version": "3.8.8"
  }
 },
 "nbformat": 4,
 "nbformat_minor": 5
}

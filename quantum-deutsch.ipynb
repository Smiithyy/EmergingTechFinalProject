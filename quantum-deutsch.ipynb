{
 "cells": [
  {
   "cell_type": "markdown",
   "id": "0418bc08-9eec-4ae2-bb46-ea5e8cd0a575",
   "metadata": {},
   "source": [
    "# Quantum Deutsch Notebook\n",
    "\n",
    "[Official documentation](https://learnonline.gmit.ie/course/view.php?id=3762)\n",
    "***"
   ]
  },
  {
   "cell_type": "code",
   "execution_count": null,
   "id": "3d033bbd-c7cf-4fec-b4e9-de7bfb4b47cb",
   "metadata": {},
   "outputs": [],
   "source": []
  }
 ],
 "metadata": {
  "kernelspec": {
   "display_name": "Python 3",
   "language": "python",
   "name": "python3"
  },
  "language_info": {
   "codemirror_mode": {
    "name": "ipython",
    "version": 3
   },
   "file_extension": ".py",
   "mimetype": "text/x-python",
   "name": "python",
   "nbconvert_exporter": "python",
   "pygments_lexer": "ipython3",
   "version": "3.8.8"
  }
 },
 "nbformat": 4,
 "nbformat_minor": 5
}

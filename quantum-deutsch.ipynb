{
 "cells": [
  {
   "cell_type": "markdown",
   "id": "0418bc08-9eec-4ae2-bb46-ea5e8cd0a575",
   "metadata": {},
   "source": [
    "# Quantum Deutsch Notebook\n",
    "\n",
    "[Official documentation](https://learnonline.gmit.ie/course/view.php?id=3762)\n",
    "***"
   ]
  },
  {
   "cell_type": "markdown",
   "id": "22bb7c98-8557-451f-b2e1-2b282e46d5eb",
   "metadata": {},
   "source": [
    "<h1>Quantum Computing vs Classical Computing</h1>\n",
    "<h4>What is Quantum Computing?</h4>\n",
    "<p></p>\n",
    "<h4>What is Classical Computing?</h4>\n",
    "<p></p>"
   ]
  }
 ],
 "metadata": {
  "kernelspec": {
   "display_name": "Python 3",
   "language": "python",
   "name": "python3"
  },
  "language_info": {
   "codemirror_mode": {
    "name": "ipython",
    "version": 3
   },
   "file_extension": ".py",
   "mimetype": "text/x-python",
   "name": "python",
   "nbconvert_exporter": "python",
   "pygments_lexer": "ipython3",
   "version": "3.8.8"
  }
 },
 "nbformat": 4,
 "nbformat_minor": 5
}

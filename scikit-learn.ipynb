{
 "cells": [
  {
   "cell_type": "markdown",
   "id": "32a077dd-28e9-470e-b86f-1c7c07866d5f",
   "metadata": {},
   "source": [
    "# Scikit Learn Notebook \n",
    "\n",
    "[Official documentation](https://scikit-learn.org/stable/tutorial/index.html)\n",
    "***"
   ]
  },
  {
   "cell_type": "code",
   "execution_count": null,
   "id": "bbdb24ba-0f4e-4703-9505-d57218164740",
   "metadata": {},
   "outputs": [],
   "source": []
  }
 ],
 "metadata": {
  "kernelspec": {
   "display_name": "Python 3",
   "language": "python",
   "name": "python3"
  },
  "language_info": {
   "codemirror_mode": {
    "name": "ipython",
    "version": 3
   },
   "file_extension": ".py",
   "mimetype": "text/x-python",
   "name": "python",
   "nbconvert_exporter": "python",
   "pygments_lexer": "ipython3",
   "version": "3.8.8"
  }
 },
 "nbformat": 4,
 "nbformat_minor": 5
}

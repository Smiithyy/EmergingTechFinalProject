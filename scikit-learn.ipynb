{
 "cells": [
  {
   "cell_type": "markdown",
   "id": "32a077dd-28e9-470e-b86f-1c7c07866d5f",
   "metadata": {},
   "source": [
    "# Scikit Learn Notebook \n",
    "\n",
    "[Official documentation](https://scikit-learn.org/stable/tutorial/index.html)\n",
    "***"
   ]
  },
  {
   "cell_type": "markdown",
   "id": "1f88be2c-59af-4f1d-8ab5-09e007aa411e",
   "metadata": {},
   "source": [
    "<h1>Scikit-Learn</h1>\n",
    "<h4>What is Scikit-Learn?</h4>\n",
    "<p>Scikit-learn is an open source machine learning library for the Python ptogramming language. It supports both supervised and unsupervised machine learning. Scikit-Learn is equipped with tools for model fitting, data processing, model selection and evaluation along with dozens of built-in classifaction, regression and clustering algorythems.</p>\n",
    "<p>Scikit-Learn works on NumPy arrays, these are arrays consisting of one data type. The data is stored in an array named X and the outputs/labels in an array named Y. Scikit-Learn uses machine learning in order to make accurate predictions of the outputs.</p>"
   ]
  },
  {
   "cell_type": "markdown",
   "id": "32cb3eb4-4726-4ecc-9df9-9c462cdf5fb8",
   "metadata": {},
   "source": [
    "<h2>Algorythem 1</h2>\n"
   ]
  },
  {
   "cell_type": "code",
   "execution_count": null,
   "id": "5c4811fe-631c-4fe0-8e5e-c8f3a5c8950e",
   "metadata": {},
   "outputs": [],
   "source": []
  },
  {
   "cell_type": "markdown",
   "id": "1fed4605-4364-45ed-855a-377415ef62f9",
   "metadata": {},
   "source": [
    "<h2>Algorythem 2</h2>"
   ]
  },
  {
   "cell_type": "code",
   "execution_count": null,
   "id": "c97a14ec-5b7b-4447-83f5-39dd34dcccae",
   "metadata": {},
   "outputs": [],
   "source": []
  },
  {
   "cell_type": "markdown",
   "id": "60fc6982-8adb-4b9a-9fff-062b7c496330",
   "metadata": {},
   "source": [
    "<h2>Algorythem 3</h2>"
   ]
  },
  {
   "cell_type": "code",
   "execution_count": null,
   "id": "2ebc2dbe-2e76-4bca-8608-1a843db63570",
   "metadata": {},
   "outputs": [],
   "source": []
  }
 ],
 "metadata": {
  "kernelspec": {
   "display_name": "Python 3",
   "language": "python",
   "name": "python3"
  },
  "language_info": {
   "codemirror_mode": {
    "name": "ipython",
    "version": 3
   },
   "file_extension": ".py",
   "mimetype": "text/x-python",
   "name": "python",
   "nbconvert_exporter": "python",
   "pygments_lexer": "ipython3",
   "version": "3.8.8"
  }
 },
 "nbformat": 4,
 "nbformat_minor": 5
}
